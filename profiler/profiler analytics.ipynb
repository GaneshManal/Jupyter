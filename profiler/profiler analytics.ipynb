{
 "cells": [
  {
   "cell_type": "code",
   "execution_count": null,
   "metadata": {
    "extensions": {
     "jupyter_dashboards": {
      "version": 1,
      "views": {
       "grid_default": {
        "col": 0,
        "height": 7,
        "hidden": false,
        "row": 4,
        "width": 4
       },
       "report_default": {}
      }
     }
    }
   },
   "outputs": [],
   "source": [
    "from urlparse import urlparse\n",
    "from elasticsearch import Elasticsearch\n",
    "from pandas import DataFrame\n",
    "import pandas as pd\n",
    "from ipywidgets import widgets\n",
    "from ipywidgets import interact\n",
    "from IPython.display import display\n",
    "\n",
    "es = Elasticsearch(host=\"10.11.0.134\")\n",
    "cluster_info = es.search(index=\"testbulk\", body={\"size\":0,\"aggs\": {\"per_category\": {\"terms\": {\"field\": \"_clusterName\"}}}})\n",
    "\n",
    "cluster_data = cluster_info['aggregations']['per_category']['buckets']\n",
    "cluster_data\n",
    "list_clusters = []\n",
    "for row in cluster_data:\n",
    "    list_clusters.append(row['key'])\n",
    "list_clusters\n",
    "cluster_df = pd.DataFrame(list_clusters, columns=['clusterName'])\n",
    "cluster_df"
   ]
  },
  {
   "cell_type": "code",
   "execution_count": 16,
   "metadata": {
    "extensions": {
     "jupyter_dashboards": {
      "version": 1,
      "views": {
       "grid_default": {
        "col": 5,
        "height": 4,
        "hidden": false,
        "row": 0,
        "width": 4
       },
       "report_default": {}
      }
     }
    }
   },
   "outputs": [
    {
     "data": {
      "application/vnd.jupyter.widget-view+json": {
       "model_id": "a5914f1477234e829f70ab82bea273ed"
      }
     },
     "metadata": {},
     "output_type": "display_data"
    }
   ],
   "source": [
    "cluster_options = widgets.Select(options=list_clusters, value='lab',disabled=False)\n",
    "display(cluster_options)"
   ]
  },
  {
   "cell_type": "code",
   "execution_count": 21,
   "metadata": {
    "extensions": {
     "jupyter_dashboards": {
      "version": 1,
      "views": {
       "grid_default": {
        "col": 8,
        "height": 4,
        "hidden": false,
        "row": 4,
        "width": 4
       },
       "report_default": {}
      }
     }
    }
   },
   "outputs": [
    {
     "data": {
      "text/html": [
       "<h1> Read the list of hosts for specified cluster.</h1>"
      ],
      "text/plain": [
       "<IPython.core.display.HTML object>"
      ]
     },
     "metadata": {},
     "output_type": "display_data"
    }
   ],
   "source": [
    "%%HTML\n",
    "<h1> Read the list of hosts for specified cluster.</h1>\n"
   ]
  },
  {
   "cell_type": "code",
   "execution_count": null,
   "metadata": {
    "collapsed": true
   },
   "outputs": [],
   "source": [
    "import json\n",
    "cluster_info = es.search(index=\"testbulk\", body={\"size\":0, \"query\": {\"bool\": {\"filter\": [{\"match\": {\"_clusterName\":cluster_options.value}}]}}, \"aggs\": {\"per_category\": {\"terms\": {\"field\": \"_hostName\"}}}})\n",
    "\n",
    "#host_info = es.search(index=\"testbulk\", size='100', body={\"query\": {\"match_all\": {}}})\n",
    "print 'host info +++> ', json.dumps(host_info)\n",
    "\n",
    "cluster_data = cluster_info['aggregations']['per_category']['buckets']\n",
    "print 'host data +++> ', json.dumps(host_data)\n",
    "\n",
    "host_list = []\n",
    "for row in cluster_data:\n",
    "    host_list.append(row['key'])\n",
    "print 'host list +++> ', host_list\n",
    "\n",
    "# host_df = pd.DataFrame(list_hosts, columns=['hostName'])\n",
    "for x_host in host_list:\n",
    "    host_data = es.search(index=\"testbulk\", body={\"size\":1, \"query\": {\"bool\": {\"filter\": [{\"match\": {\"_hostName\":x_host}}]}}, \"aggs\": {\"per_category\": {\"terms\": {\"field\": \"VMs\"}}}})\n",
    "    print 'host name --->', x_host\n",
    "    print 'host vm s --->', json.dumps(host_data)"
   ]
  },
  {
   "cell_type": "code",
   "execution_count": 25,
   "metadata": {},
   "outputs": [
    {
     "data": {
      "text/html": [
       "<h1> Read all the hosts</h1>"
      ],
      "text/plain": [
       "<IPython.core.display.HTML object>"
      ]
     },
     "metadata": {},
     "output_type": "display_data"
    }
   ],
   "source": [
    "%%HTML\n",
    "<h1> Read all the hosts</h1>"
   ]
  },
  {
   "cell_type": "code",
   "execution_count": null,
   "metadata": {
    "collapsed": true,
    "extensions": {
     "jupyter_dashboards": {
      "version": 1,
      "views": {
       "grid_default": {
        "col": 4,
        "height": 8,
        "hidden": false,
        "row": 4,
        "width": 4
       },
       "report_default": {}
      }
     }
    }
   },
   "outputs": [],
   "source": [
    "all_hosts_info = es.search(index=\"testbulk\", body={\"size\":0,\"aggs\": {\"per_category\": {\"terms\": {\"field\": \"_hostName\"}}}})\n",
    "all_hosts_info\n",
    "all_host_data = all_hosts_info['aggregations']['per_category']['buckets']\n",
    "all_host_data\n",
    "\n",
    "all_list_hosts = []\n",
    "for row in all_host_data:\n",
    "    all_list_hosts.append(row['key'])\n",
    "all_list_hosts\n",
    "all_host_df = pd.DataFrame(all_list_hosts, columns=['hostName'])\n",
    "all_host_df"
   ]
  },
  {
   "cell_type": "code",
   "execution_count": 26,
   "metadata": {},
   "outputs": [
    {
     "data": {
      "text/html": [
       "<h1> Plot the Average RAM Utilization for every host in specified cluster</h1>"
      ],
      "text/plain": [
       "<IPython.core.display.HTML object>"
      ]
     },
     "metadata": {},
     "output_type": "display_data"
    }
   ],
   "source": [
    "%%HTML\n",
    "<h1> Plot the Average RAM Utilization for every host in specified cluster</h1>"
   ]
  },
  {
   "cell_type": "code",
   "execution_count": 42,
   "metadata": {},
   "outputs": [
    {
     "name": "stdout",
     "output_type": "stream",
     "text": [
      "          Host        RAM\n",
      "0   10.11.0.81  12.151363\n",
      "1   10.11.0.61  38.928932\n",
      "2  10.11.1.153  29.869044\n",
      "3  10.11.1.154  45.505097\n",
      "4  10.11.1.155  41.208480\n",
      "5          all        NaN\n"
     ]
    },
    {
     "data": {
      "text/plain": [
       "<matplotlib.axes._subplots.AxesSubplot at 0xc0d1828>"
      ]
     },
     "execution_count": 42,
     "metadata": {},
     "output_type": "execute_result"
    },
    {
     "data": {
      "image/png": "[encoded data removed]",
      "text/plain": [
       "<matplotlib.figure.Figure at 0xcc08710>"
      ]
     },
     "metadata": {},
     "output_type": "display_data"
    }
   ],
   "source": [
    "cluster_info = es.search(index=\"testbulk\", body={\n",
    "\"size\": 0,\n",
    "  \"aggs\": {\n",
    "    \"group_by_state\": {\n",
    "      \"terms\": {\n",
    "        \"field\": \"_hostName\"\n",
    "      },\n",
    "      \"aggs\": {\n",
    "        \"avg_ram\": {\n",
    "          \"avg\": {\n",
    "            \"field\": \"RAMConsumedPercentPeak\"\n",
    "          }\n",
    "        }\n",
    "      }\n",
    "    }\n",
    "  }\n",
    "})\n",
    "\n",
    "# print json.dumps(cluster_info)\n",
    "ramdata_buckets = cluster_info.get('aggregations', {}).get('group_by_state', {}).get('buckets', [])\n",
    "# print json.dumps(ramdata_buckets)\n",
    "data_matrix = []\n",
    "for x_bucket in ramdata_buckets:\n",
    "    data_matrix.append([x_bucket.get('key'), x_bucket.get('avg_ram',{}).get('value')])\n",
    "\n",
    "\n",
    "df = pd.DataFrame(data=data_matrix, columns=['Host', 'RAM'])\n",
    "\n",
    "% matplotlib inline\n",
    "df.plot.bar(y=\"RAM\", x=\"Host\", color=\"green\")"
   ]
  },
  {
   "cell_type": "code",
   "execution_count": null,
   "metadata": {
    "extensions": {
     "jupyter_dashboards": {
      "version": 1,
      "views": {
       "grid_default": {
        "col": 8,
        "height": 4,
        "hidden": false,
        "row": 8,
        "width": 4
       },
       "report_default": {}
      }
     }
    }
   },
   "outputs": [],
   "source": [
    "host_options = widgets.Select(options=all_list_hosts, value='10.11.0.81',disabled=False)\n",
    "display(host_options)"
   ]
  },
  {
   "cell_type": "code",
   "execution_count": null,
   "metadata": {
    "collapsed": true,
    "extensions": {
     "jupyter_dashboards": {
      "version": 1,
      "views": {
       "grid_default": {
        "col": 0,
        "height": 12,
        "hidden": false,
        "row": 11,
        "width": 4
       },
       "report_default": {}
      }
     }
    }
   },
   "outputs": [],
   "source": [
    "vm_info = es.search(index=\"testbulk\", body={\"size\":0, \"query\": {\"bool\": {\"filter\": [{\"match\": {\"_hostName\":host_options.value}}]}}, \"aggs\": {\"per_category\": {\"terms\": {\"field\": \"_vmName\"}}}})\n",
    "vm_info\n",
    "vm_data = vm_info['aggregations']['per_category']['buckets']\n",
    "vm_data\n",
    "list_vms = []\n",
    "for row in vm_data:\n",
    "    list_vms.append(row['key'])\n",
    "list_vms\n",
    "vm_df = pd.DataFrame(list_vms, columns=['vmName'])\n",
    "vm_df"
   ]
  },
  {
   "cell_type": "code",
   "execution_count": null,
   "metadata": {
    "collapsed": true,
    "extensions": {
     "jupyter_dashboards": {
      "version": 1,
      "views": {
       "grid_default": {
        "hidden": true
       },
       "report_default": {}
      }
     }
    }
   },
   "outputs": [],
   "source": [
    "all_vms_info = es.search(index=\"testbulk\", body={\"size\":0,\"aggs\": {\"per_category\": {\"terms\": {\"field\": \"_vmName\"}}}})\n",
    "all_vms_info\n",
    "all_vm_data = all_vms_info['aggregations']['per_category']['buckets']\n",
    "all_vm_data\n",
    "all_list_vms = []\n",
    "for row in all_vm_data:\n",
    "    all_list_vms.append(row['key'])\n",
    "all_list_vms\n",
    "all_vm_df = pd.DataFrame(all_list_vms, columns=['vmName'])\n",
    "all_vm_df"
   ]
  },
  {
   "cell_type": "code",
   "execution_count": null,
   "metadata": {
    "extensions": {
     "jupyter_dashboards": {
      "version": 1,
      "views": {
       "grid_default": {
        "col": 0,
        "height": 4,
        "hidden": false,
        "row": 0,
        "width": 4
       },
       "report_default": {}
      }
     }
    }
   },
   "outputs": [],
   "source": [
    "count_clusters = len(list_clusters)\n",
    "count_hosts = len(all_list_hosts)\n",
    "count_vms = len(all_list_vms)\n",
    "vm_count_df = pd.DataFrame([[count_clusters, count_hosts, count_vms]],columns=['Num Clusters', 'Num Hosts', 'Num VMs'])\n",
    "vm_count_df"
   ]
  },
  {
   "cell_type": "code",
   "execution_count": null,
   "metadata": {
    "collapsed": true,
    "extensions": {
     "jupyter_dashboards": {
      "version": 1,
      "views": {
       "grid_default": {
        "hidden": true
       },
       "report_default": {}
      }
     }
    }
   },
   "outputs": [],
   "source": []
  }
 ],
 "metadata": {
  "extensions": {
   "jupyter_dashboards": {
    "activeView": "grid_default",
    "version": 1,
    "views": {
     "grid_default": {
      "cellMargin": 10,
      "defaultCellHeight": 20,
      "maxColumns": 12,
      "name": "grid",
      "type": "grid"
     },
     "report_default": {
      "name": "report",
      "type": "report"
     }
    }
   }
  },
  "kernelspec": {
   "display_name": "Python 2",
   "language": "python",
   "name": "python2"
  },
  "language_info": {
   "codemirror_mode": {
    "name": "ipython",
    "version": 2
   },
   "file_extension": ".py",
   "mimetype": "text/x-python",
   "name": "python",
   "nbconvert_exporter": "python",
   "pygments_lexer": "ipython2",
   "version": "2.7.13"
  }
 },
 "nbformat": 4,
 "nbformat_minor": 2
}
