{
 "cells": [
  {
   "cell_type": "code",
   "execution_count": 55,
   "metadata": {},
   "outputs": [
    {
     "data": {
      "application/vnd.jupyter.widget-view+json": {
       "model_id": "66ce8a49e8f445d79646a963c5f32d6c"
      }
     },
     "metadata": {},
     "output_type": "display_data"
    }
   ],
   "source": [
    "%matplotlib inline\n",
    "\n",
    "# To prevent automatic figure display when execution of the cell ends\n",
    "%config InlineBackend.close_figures=False \n",
    "\n",
    "import matplotlib.pyplot as plt\n",
    "import numpy as np\n",
    "import pandas as pd\n",
    "\n",
    "from data_reader import ReadElasticData\n",
    "\n",
    "from ipywidgets import widgets\n",
    "from IPython.display import display,clear_output\n",
    "\n",
    "\n",
    "# data_obj = ReadElasticData()\n",
    "# data = data_obj.read_data()\n",
    "data = {\"clusters\": ['Cisco', 'RedHat', 'Xoriant'], \"hosts\": ['Abc', 'Def'], \"vms\": ['ubuntu1', 'ubuntu2']}\n",
    "count_df = pd.DataFrame([[len(data.get('clusters')), \n",
    "                          len(data.get('hosts')), \n",
    "                          len(data.get('vms'))]],columns=['Cluster', 'Hosts', 'VM'])\n",
    "\n",
    "cluster_list = data.get('clusters')\n",
    "\n",
    "out = widgets.Output()\n",
    "cluster = widgets.Dropdown(options=cluster_list)\n",
    "\n",
    "vbox=widgets.VBox(children=(cluster, out))\n",
    "display(vbox)\n",
    "\n",
    "def on_change(change):\n",
    "    if change:\n",
    "        if change['type'] == 'change' and change['name'] == 'value':\n",
    "            with out:\n",
    "                clear_output(wait=True)\n",
    "                # x_cluster.value = change.get('new', 'None')\n",
    "                # display(change.get('new', 'None'))\n",
    "                print(change.get('new', 'None'))\n",
    "\n",
    "cluster.observe(on_change)\n",
    "on_change(None)"
   ]
  }
 ],
 "metadata": {
  "kernelspec": {
   "display_name": "Python 2",
   "language": "python",
   "name": "python2"
  },
  "language_info": {
   "codemirror_mode": {
    "name": "ipython",
    "version": 2
   },
   "file_extension": ".py",
   "mimetype": "text/x-python",
   "name": "python",
   "nbconvert_exporter": "python",
   "pygments_lexer": "ipython2",
   "version": "2.7.13"
  }
 },
 "nbformat": 4,
 "nbformat_minor": 2
}
