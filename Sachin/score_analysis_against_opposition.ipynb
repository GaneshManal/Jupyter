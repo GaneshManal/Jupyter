{
 "cells": [
  {
   "cell_type": "code",
   "execution_count": 1,
   "metadata": {
    "collapsed": true
   },
   "outputs": [],
   "source": [
    "def string_df_columns_to_numeric(df, column_list):\n",
    "    df[column_list] = df[column_list].apply(pd.to_numeric, errors='test')"
   ]
  },
  {
   "cell_type": "code",
   "execution_count": 2,
   "metadata": {
    "collapsed": true
   },
   "outputs": [],
   "source": [
    "import pandas as pd\n",
    "\n",
    "df = pd.read_csv('odi_career.csv')"
   ]
  },
  {
   "cell_type": "code",
   "execution_count": 3,
   "metadata": {
    "collapsed": true
   },
   "outputs": [],
   "source": [
    "string_df_columns_to_numeric(df, [\"batting_score\", \"wickets\"])"
   ]
  },
  {
   "cell_type": "code",
   "execution_count": 4,
   "metadata": {
    "collapsed": true
   },
   "outputs": [],
   "source": [
    "batting_stats = df.groupby(['opposition'])['batting_score'].sum()"
   ]
  },
  {
   "cell_type": "code",
   "execution_count": 8,
   "metadata": {},
   "outputs": [
    {
     "name": "stdout",
     "output_type": "stream",
     "text": [
      "opposition\n",
      "Australia       2960.0\n",
      "Bangladesh       414.0\n",
      "Bermuda            NaN\n",
      "England         1172.0\n",
      "Ireland           42.0\n",
      "Kenya            280.0\n",
      "Namibia          152.0\n",
      "Netherlands       79.0\n",
      "New_Zealand     1353.0\n",
      "Pakistan        2306.0\n",
      "South_Africa    1801.0\n",
      "Sri_Lanka       2699.0\n",
      "U.A.E.            81.0\n",
      "West_Indies      934.0\n",
      "Zimbabwe         930.0\n",
      "Name: batting_score, dtype: float64\n"
     ]
    }
   ],
   "source": [
    "type(batting_stats)\n",
    "# dir(batting_stats.plot)\n",
    "print batting_stats"
   ]
  },
  {
   "cell_type": "code",
   "execution_count": 18,
   "metadata": {},
   "outputs": [
    {
     "data": {
      "text/plain": [
       "<matplotlib.axes._subplots.AxesSubplot at 0xdac7278>"
      ]
     },
     "execution_count": 18,
     "metadata": {},
     "output_type": "execute_result"
    },
    {
     "data": {
      "image/png": "[encoded data removed]",
      "text/plain": [
       "<matplotlib.figure.Figure at 0xe218630>"
      ]
     },
     "metadata": {},
     "output_type": "display_data"
    }
   ],
   "source": [
    "%matplotlib inline\n",
    "batting_stats.plot.bar(color=\"purple\", title=\"Run scored group by opposition\", style={})"
   ]
  }
 ],
 "metadata": {
  "kernelspec": {
   "display_name": "Python 2",
   "language": "python",
   "name": "python2"
  },
  "language_info": {
   "codemirror_mode": {
    "name": "ipython",
    "version": 2.0
   },
   "file_extension": ".py",
   "mimetype": "text/x-python",
   "name": "python",
   "nbconvert_exporter": "python",
   "pygments_lexer": "ipython2",
   "version": "2.7.13"
  }
 },
 "nbformat": 4,
 "nbformat_minor": 0
}