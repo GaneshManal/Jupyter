{
 "cells": [
  {
   "cell_type": "code",
   "execution_count": 60,
   "metadata": {},
   "outputs": [
    {
     "name": "stdout",
     "output_type": "stream",
     "text": [
      "   1   2   3\n",
      "0  4   5   6\n",
      "1  7   8   9\n"
     ]
    }
   ],
   "source": [
    "import numpy as np\n",
    "import pandas as pd\n",
    "import os\n",
    "\n",
    "data = None\n",
    "try:\n",
    "    in_file = open(os.getcwd() + os.path.sep + 'csv_data.csv')\n",
    "    data = pd.read_csv(in_file)\n",
    "    \n",
    "except Exception as e:\n",
    "    print 'Exception : ', str(e)\n",
    "\n",
    "# df = pd.DataFrame(data=data, index=['A', 'B', 'C'], columns=['A', 'B', 'C'])\n",
    "df = pd.DataFrame(data=data)\n",
    "\n",
    "print df.head()"
   ]
  },
  {
   "cell_type": "code",
   "execution_count": null,
   "metadata": {
    "collapsed": true
   },
   "outputs": [],
   "source": []
  }
 ],
 "metadata": {
  "kernelspec": {
   "display_name": "Python 2",
   "language": "python",
   "name": "python2"
  },
  "language_info": {
   "codemirror_mode": {
    "name": "ipython",
    "version": 2
   },
   "file_extension": ".py",
   "mimetype": "text/x-python",
   "name": "python",
   "nbconvert_exporter": "python",
   "pygments_lexer": "ipython2",
   "version": "2.7.13"
  }
 },
 "nbformat": 4,
 "nbformat_minor": 2
}
